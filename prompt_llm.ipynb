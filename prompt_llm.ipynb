{
 "cells": [
  {
   "cell_type": "code",
   "execution_count": 1,
   "metadata": {},
   "outputs": [],
   "source": [
    "# Notebook Chunk 1: Import Libraries\n",
    "import torch\n",
    "from transformers import AutoModelForCausalLM, AutoTokenizer, BitsAndBytesConfig\n",
    "import pickle\n",
    "import os\n",
    "from dotenv import load_dotenv"
   ]
  },
  {
   "cell_type": "code",
   "execution_count": 2,
   "metadata": {},
   "outputs": [],
   "source": [
    "# Notebook Chunk 2: Define Helper Functions\n",
    "def get_model_and_tokenizer(model_name: str, hf_token: str):\n",
    "    tokenizer = AutoTokenizer.from_pretrained(model_name, token=hf_token)\n",
    "    \n",
    "    quantization_config = BitsAndBytesConfig(\n",
    "        load_in_8bit=True\n",
    "    )\n",
    "\n",
    "    model = AutoModelForCausalLM.from_pretrained(\n",
    "        model_name, quantization_config=quantization_config, token=hf_token\n",
    "    )\n",
    "    return model, tokenizer\n",
    "\n",
    "def load_steering_vector(file_path):\n",
    "    with open(file_path, 'rb') as file:\n",
    "        steering_vector = pickle.load(file)\n",
    "    return steering_vector\n",
    "\n",
    "def generate_text(prompt: str, model, tokenizer) -> str:\n",
    "    inputs = tokenizer(prompt, return_tensors=\"pt\")\n",
    "    outputs = model.generate(**inputs)\n",
    "    generated_text = tokenizer.decode(outputs[0], skip_special_tokens=True)\n",
    "    return generated_text\n"
   ]
  },
  {
   "cell_type": "code",
   "execution_count": 3,
   "metadata": {},
   "outputs": [],
   "source": [
    "# Notebook Chunk 3: Load Environment Variables\n",
    "load_dotenv('keys.env')\n",
    "HUGGINGFACE_TOKEN = os.getenv(\"HF_TOKEN\")"
   ]
  },
  {
   "cell_type": "code",
   "execution_count": 4,
   "metadata": {},
   "outputs": [
    {
     "name": "stderr",
     "output_type": "stream",
     "text": [
      "`low_cpu_mem_usage` was None, now set to True since model is quantized.\n"
     ]
    },
    {
     "data": {
      "application/vnd.jupyter.widget-view+json": {
       "model_id": "e7bcc4cf6ac743e0b41cf38aaeedf71e",
       "version_major": 2,
       "version_minor": 0
      },
      "text/plain": [
       "Loading checkpoint shards:   0%|          | 0/2 [00:00<?, ?it/s]"
      ]
     },
     "metadata": {},
     "output_type": "display_data"
    }
   ],
   "source": [
    "# Notebook Chunk 4: Load Model and Tokenizer\n",
    "model_size = \"7b\"\n",
    "model_name = f\"meta-llama/Llama-2-{model_size}-chat-hf\"\n",
    "model, tokenizer = get_model_and_tokenizer(model_name, HUGGINGFACE_TOKEN)"
   ]
  },
  {
   "cell_type": "code",
   "execution_count": null,
   "metadata": {},
   "outputs": [],
   "source": [
    "# Notebook Chunk 5: Load Steering Vectors\n",
    "corr_path = 'steering_vectors/corrigibility_steering_vector_13.pkl'\n",
    "syco_path = 'steering_vectors/sycophancy_steering_vector_14.pkl'\n",
    "truth_path = 'steering_vectors/truthfulness_steering_vector_15.pkl'\n",
    "\n",
    "corrigibility_steering_vector = load_steering_vector(corr_path)\n",
    "sycophancy_steering_vector = load_steering_vector(syco_path)\n",
    "truthfulness_steering_vector = load_steering_vector(truth_path)\n"
   ]
  },
  {
   "cell_type": "code",
   "execution_count": null,
   "metadata": {},
   "outputs": [],
   "source": [
    "# Notebook Chunk 6: Generate and Print Text\n",
    "prompt = \"Say three words\"\n",
    "\n",
    "with corrigibility_steering_vector.apply(model, multiplier=1.0, min_token_index=0):\n",
    "    with sycophancy_steering_vector.apply(model, multiplier=1.0, min_token_index=0):\n",
    "        with truthfulness_steering_vector.apply(model, multiplier=1.0, min_token_index=0):\n",
    "            generated_text = generate_text(prompt, model, tokenizer)\n",
    "            print(f\"Steered model output for the prompt: {generated_text}\")\n"
   ]
  }
 ],
 "metadata": {
  "kernelspec": {
   "display_name": "base",
   "language": "python",
   "name": "python3"
  },
  "language_info": {
   "codemirror_mode": {
    "name": "ipython",
    "version": 3
   },
   "file_extension": ".py",
   "mimetype": "text/x-python",
   "name": "python",
   "nbconvert_exporter": "python",
   "pygments_lexer": "ipython3",
   "version": "3.10.14"
  }
 },
 "nbformat": 4,
 "nbformat_minor": 2
}
